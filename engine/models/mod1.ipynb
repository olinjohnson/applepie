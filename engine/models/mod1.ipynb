{
 "cells": [
  {
   "cell_type": "markdown",
   "source": [
    "Imports:"
   ],
   "metadata": {
    "collapsed": false
   }
  },
  {
   "cell_type": "code",
   "execution_count": null,
   "outputs": [],
   "source": [
    "from engine.util import HiddenLayer, Softmax, Loss"
   ],
   "metadata": {
    "collapsed": false
   }
  },
  {
   "cell_type": "markdown",
   "source": [
    "Visual:"
   ],
   "metadata": {
    "collapsed": false
   }
  },
  {
   "cell_type": "markdown",
   "source": [
    "![mod1](mod1.png)"
   ],
   "metadata": {
    "collapsed": false
   }
  },
  {
   "cell_type": "markdown",
   "source": [
    "Model definition:"
   ],
   "metadata": {
    "collapsed": false
   }
  },
  {
   "cell_type": "code",
   "execution_count": null,
   "outputs": [],
   "source": [
    "model = [\n",
    "    HiddenLayer(2, 2),\n",
    "    Softmax(2, 1)\n",
    "]"
   ],
   "metadata": {
    "collapsed": false
   }
  },
  {
   "cell_type": "code",
   "execution_count": 2,
   "outputs": [
    {
     "name": "stdout",
     "output_type": "stream",
     "text": [
      "[[0.83505794 0.14514   ]\n",
      " [0.9215563  0.88162724]]\n"
     ]
    }
   ],
   "source": [
    "import numpy as np\n",
    "weights = np.random.rand(2, 2)\n",
    "print(weights)"
   ],
   "metadata": {
    "collapsed": false,
    "ExecuteTime": {
     "end_time": "2023-06-13T11:35:04.909963Z",
     "start_time": "2023-06-13T11:35:04.900554Z"
    }
   }
  },
  {
   "cell_type": "code",
   "execution_count": null,
   "outputs": [],
   "source": [
    "from engine.util import HiddenLayer, Softmax, Loss\n",
    "s = Softmax(4, 1)"
   ],
   "metadata": {
    "collapsed": false
   }
  },
  {
   "cell_type": "code",
   "execution_count": 20,
   "outputs": [
    {
     "name": "stdout",
     "output_type": "stream",
     "text": [
      "[[20.08553692  2.71828183]\n",
      " [33.11545196  4.48168907]\n",
      " [54.59815003  7.3890561 ]\n",
      " [90.0171313  13.46373804]]\n",
      "[197.81627022  28.05276503]\n",
      "[[0.10153632 0.1674051  0.27600434 0.45505423]\n",
      " [0.09689889 0.15975926 0.2633985  0.47994335]]\n"
     ]
    }
   ],
   "source": [
    "inputs = np.array([[3,3.5,4,4.5],[1,1.5,2,2.6]])\n",
    "def activation_softmax():\n",
    "    \"\"\"Softmax activation function\"\"\"\n",
    "    inext = np.exp(inputs).T\n",
    "    print(inext)\n",
    "    d = np.sum(inext, axis=0)\n",
    "    print(d)\n",
    "    return np.divide(inext, d).T\n",
    "    #print(np.sum(inext, axis=0))\n",
    "\n",
    "print(activation_softmax())"
   ],
   "metadata": {
    "collapsed": false,
    "ExecuteTime": {
     "end_time": "2023-06-13T11:50:49.894630Z",
     "start_time": "2023-06-13T11:50:49.889203Z"
    }
   }
  },
  {
   "cell_type": "code",
   "execution_count": null,
   "outputs": [],
   "source": [],
   "metadata": {
    "collapsed": false
   }
  }
 ],
 "metadata": {
  "kernelspec": {
   "display_name": "Python 3",
   "language": "python",
   "name": "python3"
  },
  "language_info": {
   "codemirror_mode": {
    "name": "ipython",
    "version": 2
   },
   "file_extension": ".py",
   "mimetype": "text/x-python",
   "name": "python",
   "nbconvert_exporter": "python",
   "pygments_lexer": "ipython2",
   "version": "2.7.6"
  }
 },
 "nbformat": 4,
 "nbformat_minor": 0
}
